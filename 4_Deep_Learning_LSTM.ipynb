{
 "cells": [
  {
   "cell_type": "markdown",
   "metadata": {},
   "source": [
    "# 4_Deep_Learning_LSTM\n",
    "\n",
    "- LSTM\n",
    "- LSTM start with word2vec\n",
    "- CNN\n",
    "- LSTM + Attention https://blog.floydhub.com/attention-mechanism/\n",
    "\n",
    "\n",
    "Convolutional Neural Networks (CNNs) have been shown to learn local features from words\n",
    "or phrases [1], while Recurrent Neural Networks (RNNs) are able to learn temporal\n",
    "dependencies in sequential data [2]. \n",
    "\n",
    "TODO\n",
    "- fix warning\n",
    "- try @tf.\n",
    "- \n",
    "\n",
    "https://www.aclweb.org/anthology/O18-1021.pdf\n",
    "    \n",
    "    \n",
    "https://arxiv.org/pdf/1702.01923.pdf"
   ]
  },
  {
   "cell_type": "code",
   "execution_count": 17,
   "metadata": {},
   "outputs": [
    {
     "name": "stdout",
     "output_type": "stream",
     "text": [
      "The autoreload extension is already loaded. To reload it, use:\n",
      "  %reload_ext autoreload\n"
     ]
    }
   ],
   "source": [
    "%load_ext autoreload\n",
    "%autoreload\n",
    "\n",
    "from lib.dataset import download_tfds_imdb_as_tensor_subword_8k\n",
    "from lib.deep_learning import run_lstm_pipeline\n",
    "\n"
   ]
  },
  {
   "cell_type": "code",
   "execution_count": 18,
   "metadata": {},
   "outputs": [
    {
     "name": "stderr",
     "output_type": "stream",
     "text": [
      "WARNING:absl:TFDS datasets with text encoding are deprecated and will be removed in a future version. Instead, you should use the plain text version and tokenize the text using `tensorflow_text` (See: https://www.tensorflow.org/tutorials/tensorflow_text/intro#tfdata_example)\n"
     ]
    }
   ],
   "source": [
    "train, test, info = download_tfds_imdb_as_tensor_subword_8k()"
   ]
  },
  {
   "cell_type": "markdown",
   "metadata": {},
   "source": [
    "# Basic LSTM"
   ]
  },
  {
   "cell_type": "code",
   "execution_count": 19,
   "metadata": {},
   "outputs": [
    {
     "name": "stdout",
     "output_type": "stream",
     "text": [
      "Epoch 1/10\n",
      "391/391 [==============================] - 420s 1s/step - loss: 0.6274 - accuracy: 0.5860 - val_loss: 0.4725 - val_accuracy: 0.7432\n",
      "Epoch 2/10\n",
      "391/391 [==============================] - 388s 992ms/step - loss: 0.3341 - accuracy: 0.8571 - val_loss: 0.3334 - val_accuracy: 0.8677\n",
      "Epoch 3/10\n",
      "391/391 [==============================] - 406s 1s/step - loss: 0.2484 - accuracy: 0.9031 - val_loss: 0.3283 - val_accuracy: 0.8615\n",
      "Epoch 4/10\n",
      "391/391 [==============================] - 391s 1000ms/step - loss: 0.2098 - accuracy: 0.9232 - val_loss: 0.3298 - val_accuracy: 0.8729\n",
      "Epoch 5/10\n",
      "391/391 [==============================] - 414s 1s/step - loss: 0.1796 - accuracy: 0.9358 - val_loss: 0.3547 - val_accuracy: 0.8641\n",
      "Epoch 6/10\n",
      "391/391 [==============================] - 416s 1s/step - loss: 0.1626 - accuracy: 0.9430 - val_loss: 0.3908 - val_accuracy: 0.8687\n",
      "Epoch 7/10\n",
      "391/391 [==============================] - 410s 1s/step - loss: 0.1487 - accuracy: 0.9485 - val_loss: 0.3947 - val_accuracy: 0.8667\n",
      "Epoch 8/10\n",
      "391/391 [==============================] - 402s 1s/step - loss: 0.1442 - accuracy: 0.9495 - val_loss: 0.3765 - val_accuracy: 0.8573\n",
      "Epoch 9/10\n",
      "391/391 [==============================] - 408s 1s/step - loss: 0.1263 - accuracy: 0.9589 - val_loss: 0.4296 - val_accuracy: 0.8609\n",
      "Epoch 10/10\n",
      "391/391 [==============================] - 403s 1s/step - loss: 0.1182 - accuracy: 0.9606 - val_loss: 0.4289 - val_accuracy: 0.8547\n",
      "    391/Unknown - 100s 256ms/step - loss: 0.4187 - accuracy: 0.8535Test Loss: 0.41865876762915755\n",
      "Test Accuracy: 0.8534799814224243\n"
     ]
    }
   ],
   "source": [
    "run_lstm_pipeline(train, test, info)"
   ]
  },
  {
   "cell_type": "markdown",
   "metadata": {},
   "source": [
    "Discussion"
   ]
  },
  {
   "cell_type": "markdown",
   "metadata": {},
   "source": [
    "# LSTM with attention"
   ]
  },
  {
   "cell_type": "code",
   "execution_count": null,
   "metadata": {},
   "outputs": [],
   "source": []
  }
 ],
 "metadata": {
  "kernelspec": {
   "display_name": "Python 3",
   "language": "python",
   "name": "python3"
  },
  "language_info": {
   "codemirror_mode": {
    "name": "ipython",
    "version": 3
   },
   "file_extension": ".py",
   "mimetype": "text/x-python",
   "name": "python",
   "nbconvert_exporter": "python",
   "pygments_lexer": "ipython3",
   "version": "3.7.6"
  }
 },
 "nbformat": 4,
 "nbformat_minor": 4
}

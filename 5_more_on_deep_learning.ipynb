{
 "cells": [
  {
   "cell_type": "markdown",
   "metadata": {},
   "source": [
    "# More on Deep Learning\n",
    "\n",
    "\n",
    "In Notebook 4, we mostly experiment with LSTM which is a sequential model. In 2017, the transformer architecture was introduced in [Attention is All You Need](https://arxiv.org/abs/1706.03762). After that, there are a lot of language model that implement this transformer architecture i.e. [BERT](https://arxiv.org/abs/1810.04805) and [GPT-2](https://cdn.openai.com/better-language-models/language_models_are_unsupervised_multitask_learners.pdf). This [article](https://medium.com/southpigalle/how-to-perform-better-sentiment-analysis-with-bert-ba127081eda) claims the F1 of 0.94 on BERT. In this experiment, we will re-implement their experiment, plus additional experiments with different flavor BERT."
   ]
  },
  {
   "cell_type": "code",
   "execution_count": null,
   "metadata": {},
   "outputs": [],
   "source": []
  }
 ],
 "metadata": {
  "kernelspec": {
   "display_name": "Python 3",
   "language": "python",
   "name": "python3"
  },
  "language_info": {
   "codemirror_mode": {
    "name": "ipython",
    "version": 3
   },
   "file_extension": ".py",
   "mimetype": "text/x-python",
   "name": "python",
   "nbconvert_exporter": "python",
   "pygments_lexer": "ipython3",
   "version": "3.7.6"
  }
 },
 "nbformat": 4,
 "nbformat_minor": 4
}

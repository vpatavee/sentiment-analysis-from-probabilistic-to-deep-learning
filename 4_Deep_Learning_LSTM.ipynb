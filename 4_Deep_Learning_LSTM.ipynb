{
 "cells": [
  {
   "cell_type": "markdown",
   "metadata": {},
   "source": [
    "# 4_Deep_Learning_LSTM\n",
    "\n",
    "- LSTM\n",
    "- LSTM start with word2vec\n",
    "- CNN\n",
    "- LSTM + Attention https://blog.floydhub.com/attention-mechanism/\n",
    "\n",
    "\n",
    "Convolutional Neural Networks (CNNs) have been shown to learn local features from words\n",
    "or phrases [1], while Recurrent Neural Networks (RNNs) are able to learn temporal\n",
    "dependencies in sequential data [2]. \n",
    "\n",
    "TODO\n",
    "- fix warning\n",
    "- try @tf.\n",
    "- \n",
    "\n",
    "https://www.aclweb.org/anthology/O18-1021.pdf\n",
    "    \n",
    "    \n",
    "https://arxiv.org/pdf/1702.01923.pdf"
   ]
  },
  {
   "cell_type": "code",
   "execution_count": 1,
   "metadata": {},
   "outputs": [],
   "source": [
    "%load_ext autoreload\n",
    "%autoreload\n",
    "\n",
    "from lib.dataset import download_tfds_imdb_as_tensor_subword_8k, download_tfds_imdb_as_text_tiny, download_tfds_imdb_as_text\n",
    "from lib.lstm import run_lstm_pipeline, run_lstm_pipeline_, load_dataset\n"
   ]
  },
  {
   "cell_type": "code",
   "execution_count": 2,
   "metadata": {},
   "outputs": [
    {
     "name": "stderr",
     "output_type": "stream",
     "text": [
      "WARNING:absl:TFDS datasets with text encoding are deprecated and will be removed in a future version. Instead, you should use the plain text version and tokenize the text using `tensorflow_text` (See: https://www.tensorflow.org/tutorials/tensorflow_text/intro#tfdata_example)\n"
     ]
    }
   ],
   "source": [
    "train, test, info = download_tfds_imdb_as_tensor_subword_8k()\n",
    "encoder = info.features['text'].encoder\n",
    "\n",
    "dataset = download_tfds_imdb_as_text()\n",
    "dataset_tiny = download_tfds_imdb_as_text_tiny()"
   ]
  },
  {
   "cell_type": "markdown",
   "metadata": {},
   "source": [
    "# Basic LSTM"
   ]
  },
  {
   "cell_type": "code",
   "execution_count": null,
   "metadata": {},
   "outputs": [
    {
     "name": "stdout",
     "output_type": "stream",
     "text": [
      "Epoch 1, Loss: 0.69, Accuracy: 0.53, Test Loss: 0.69, Test Accuracy: 0.60, Time: 229.04 s\n",
      "Epoch 2, Loss: 0.60, Accuracy: 0.73, Test Loss: 0.52, Test Accuracy: 0.81, Time: 253.03 s\n"
     ]
    }
   ],
   "source": [
    "run_lstm_pipeline(dataset)\n"
   ]
  },
  {
   "cell_type": "code",
   "execution_count": null,
   "metadata": {},
   "outputs": [],
   "source": [
    "\n",
    "run_lstm_pipeline_(train, test, encoder.vocab_size)"
   ]
  },
  {
   "cell_type": "markdown",
   "metadata": {},
   "source": [
    "```\n",
    "Epoch 1/10\n",
    "391/391 [==============================] - 395s 1s/step - loss: 0.6640 - accuracy: 0.5325 - val_loss: 0.5388 - val_accuracy: 0.7573\n",
    "Epoch 2/10\n",
    "391/391 [==============================] - 391s 999ms/step - loss: 0.3999 - accuracy: 0.8318 - val_loss: 0.3513 - val_accuracy: 0.8583\n",
    "Epoch 3/10\n",
    "391/391 [==============================] - 401s 1s/step - loss: 0.2697 - accuracy: 0.8938 - val_loss: 0.3267 - val_accuracy: 0.8745\n",
    "Epoch 4/10\n",
    "391/391 [==============================] - 381s 974ms/step - loss: 0.2217 - accuracy: 0.9162 - val_loss: 0.3551 - val_accuracy: 0.8552\n",
    "Epoch 5/10\n",
    "391/391 [==============================] - 389s 995ms/step - loss: 0.1905 - accuracy: 0.9303 - val_loss: 0.3554 - val_accuracy: 0.8714\n",
    "Epoch 6/10\n",
    "391/391 [==============================] - 382s 977ms/step - loss: 0.1672 - accuracy: 0.9410 - val_loss: 0.3633 - val_accuracy: 0.8677\n",
    "Epoch 7/10\n",
    "391/391 [==============================] - 389s 995ms/step - loss: 0.1577 - accuracy: 0.9436 - val_loss: 0.3724 - val_accuracy: 0.8635\n",
    "Epoch 8/10\n",
    " 99/391 [======>.......................] - ETA: 4:30 - loss: 0.1391 - accuracy: 0.9539\n",
    "```\n"
   ]
  },
  {
   "cell_type": "markdown",
   "metadata": {},
   "source": [
    "Discussion"
   ]
  },
  {
   "cell_type": "markdown",
   "metadata": {},
   "source": [
    "# LSTM with attention"
   ]
  },
  {
   "cell_type": "code",
   "execution_count": null,
   "metadata": {},
   "outputs": [],
   "source": [
    "\n",
    "type(train)"
   ]
  },
  {
   "cell_type": "code",
   "execution_count": null,
   "metadata": {},
   "outputs": [],
   "source": [
    "dir(info)"
   ]
  },
  {
   "cell_type": "code",
   "execution_count": null,
   "metadata": {},
   "outputs": [],
   "source": []
  }
 ],
 "metadata": {
  "kernelspec": {
   "display_name": "Python 3",
   "language": "python",
   "name": "python3"
  },
  "language_info": {
   "codemirror_mode": {
    "name": "ipython",
    "version": 3
   },
   "file_extension": ".py",
   "mimetype": "text/x-python",
   "name": "python",
   "nbconvert_exporter": "python",
   "pygments_lexer": "ipython3",
   "version": "3.7.6"
  }
 },
 "nbformat": 4,
 "nbformat_minor": 4
}
